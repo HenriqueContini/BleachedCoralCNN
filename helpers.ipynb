{
 "cells": [
  {
   "cell_type": "markdown",
   "id": "ca388dd3",
   "metadata": {},
   "source": [
    "# Carregar dataset no colab\n"
   ]
  },
  {
   "cell_type": "code",
   "execution_count": null,
   "id": "0fca692f",
   "metadata": {
    "vscode": {
     "languageId": "plaintext"
    }
   },
   "outputs": [],
   "source": [
    "from google.colab import files\n",
    "uploaded = files.upload()"
   ]
  },
  {
   "cell_type": "code",
   "execution_count": null,
   "id": "b6375bc7",
   "metadata": {
    "vscode": {
     "languageId": "plaintext"
    }
   },
   "outputs": [],
   "source": [
    "import zipfile\n",
    "import io\n",
    "data = zipfile.ZipFile(io.BytesIO(uploaded['dataset.zip']), 'r')\n",
    "data.extractall()\n",
    "data.printdir()"
   ]
  }
 ],
 "metadata": {
  "language_info": {
   "name": "python"
  }
 },
 "nbformat": 4,
 "nbformat_minor": 5
}
